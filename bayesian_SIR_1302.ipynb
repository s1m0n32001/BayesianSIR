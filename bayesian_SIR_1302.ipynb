{
 "cells": [
  {
   "cell_type": "markdown",
   "id": "457590e5",
   "metadata": {},
   "source": [
    "# Bayesian SIR\n",
    "\n",
    "Antonio Feltrin, Giosuè Sardo Infirri, Riccardo Tancredi, Simone Toso\n",
    "\n",
    "\n",
    "## Scaletta\n",
    " - SIMULARE DATI --> Fatto\n",
    " - MCMC con un solo parametro"
   ]
  },
  {
   "cell_type": "code",
   "execution_count": 1,
   "id": "d35ef13e",
   "metadata": {},
   "outputs": [],
   "source": [
    "import numpy as np\n",
    "import numpy.random as npr\n",
    "import matplotlib.pyplot as plt\n",
    "from scipy.special import gamma as gammafunc\n",
    "from scipy.stats import gamma as gammadist"
   ]
  },
  {
   "cell_type": "markdown",
   "id": "0927b592",
   "metadata": {},
   "source": [
    "## Data generation"
   ]
  },
  {
   "cell_type": "code",
   "execution_count": 2,
   "id": "15a24d2a",
   "metadata": {},
   "outputs": [],
   "source": [
    "#Parameter initialization\n",
    "N = int(1e6)\n",
    "T = 100\n",
    "I0 = 50\n",
    "S0 = N - I0\n",
    "R0 = 0\n",
    "beta_true = 0.3\n",
    "gamma_true = 0.05\n",
    "\n",
    "betas = 100*[beta_true]\n",
    "gammas = 100*[gamma_true]\n",
    "\n",
    "#Simulation\n",
    "initial_conf = np.array([S0, I0, R0])\n",
    "\n",
    "configurations = np.zeros([T, 3])\n",
    "configurations[0, :] = initial_conf\n",
    "\n",
    "for tt in range(1, T):\n",
    "    beta_true = betas[tt]\n",
    "    gamma_true = gammas[tt]\n",
    "    \n",
    "    delta_I = npr.binomial(configurations[tt-1][0],\n",
    "                           1 - np.exp(-beta_true*configurations[tt-1][1]/N))\n",
    "    delta_R = npr.binomial(configurations[tt-1][1],\n",
    "                           gamma_true)\n",
    "    configurations[tt][0] = configurations[tt-1][0] - delta_I\n",
    "    configurations[tt][1] = configurations[tt-1][1] + delta_I - delta_R\n",
    "    configurations[tt][2] = configurations[tt-1][2] + delta_R"
   ]
  },
  {
   "cell_type": "code",
   "execution_count": 14,
   "id": "a0f14be0",
   "metadata": {},
   "outputs": [
    {
     "data": {
      "text/plain": [
       "95"
      ]
     },
     "execution_count": 14,
     "metadata": {},
     "output_type": "execute_result"
    }
   ],
   "source": [
    "delta_I"
   ]
  },
  {
   "cell_type": "code",
   "execution_count": 3,
   "id": "2190ff3b",
   "metadata": {},
   "outputs": [
    {
     "data": {
      "text/plain": [
       "Text(0.5, 1.0, 'Simulated data with varying parameters')"
      ]
     },
     "execution_count": 3,
     "metadata": {},
     "output_type": "execute_result"
    },
    {
     "data": {
      "image/png": "[encoded data removed]",
      "text/plain": [
       "<Figure size 432x288 with 1 Axes>"
      ]
     },
     "metadata": {
      "needs_background": "light"
     },
     "output_type": "display_data"
    }
   ],
   "source": [
    "xs = np.arange(0, T)\n",
    "ss = configurations[:, 0] / N\n",
    "ii = configurations[:, 1]/N + ss\n",
    "rr = configurations[:, 2]/N + ii\n",
    "\n",
    "SS = configurations[:, 0]\n",
    "II = configurations[:, 1]\n",
    "RR = configurations[:, 2]\n",
    "\n",
    "plt.plot(ss, c = \"black\")\n",
    "plt.plot(ii, c = \"black\")\n",
    "plt.plot(rr, c = \"black\")\n",
    "plt.ylim([0, 1])\n",
    "\n",
    "plt.fill_between(xs, 0, ss, label = \"S\", color = \"lightgreen\")\n",
    "plt.fill_between(xs, ss, ii, label = \"I\", color = \"red\")\n",
    "plt.fill_between(xs, ii, rr, label = \"R\", color = \"royalblue\")\n",
    "\n",
    "plt.xlim([0, T-1])\n",
    "plt.legend()\n",
    "plt.title(\"Simulated data with varying parameters\")"
   ]
  },
  {
   "cell_type": "markdown",
   "id": "c3f80e90",
   "metadata": {},
   "source": [
    "## MCMC\n",
    "\n",
    " - Update delta\n",
    " - Update b,r\n",
    " - Update gamma"
   ]
  },
  {
   "cell_type": "code",
   "execution_count": 4,
   "id": "9d66ef96",
   "metadata": {},
   "outputs": [],
   "source": [
    "def mylog(x):\n",
    "    res = np.where(x != 0, np.log(x), -1022)\n",
    "    return res\n"
   ]
  },
  {
   "cell_type": "markdown",
   "id": "c42e118e",
   "metadata": {},
   "source": [
    "### Delta update"
   ]
  },
  {
   "cell_type": "code",
   "execution_count": 5,
   "id": "1b66cb88",
   "metadata": {},
   "outputs": [],
   "source": [
    "def conditional_betagamma(delta, beta, gamma):\n",
    "    K = np.sum(delta).astype(int)\n",
    "    eta = np.cumsum(delta)\n",
    "    total = 0\n",
    "    for ii in range(K):\n",
    "        total += 2*mylog(gammafunc(0.1 + np.sum(eta == ii)))\n",
    "        total -= mylog(0.1 + np.sum(beta*(eta==ii)))*(0.1 + np.sum(eta == ii))\n",
    "        total -= mylog(0.1 - np.sum(mylog(gamma)*(eta==ii)))*(0.1 + np.sum(eta == ii))\n",
    "    return total\n",
    "\n",
    "def JJ(delta_proposed, delta_now, T):\n",
    "    \n",
    "    sum_proposed = np.sum(delta_proposed).astype(int)\n",
    "    sum_now = np.sum(delta_now).astype(int)\n",
    "    \n",
    "    if sum_proposed == sum_now:\n",
    "        return 1\n",
    "    elif sum_proposed == 1 and sum_now == 2:\n",
    "        return 3/(T-1)\n",
    "    elif sum_proposed == T and sum_now == T-1:\n",
    "        return 3/(T-1)\n",
    "    elif sum_proposed == 2 and sum_now == 1:\n",
    "        return (T-1)/3\n",
    "    elif sum_proposed == T-1 and sum_now == T:\n",
    "        return (T-1)/3\n",
    "    elif sum_proposed < sum_now:\n",
    "        return (sum_now - 1)/(T-sum_proposed)\n",
    "    else:\n",
    "        return (T- sum_now) / (sum_proposed - 1)\n",
    "    \n",
    "def update_delta(delta_proposed, delta_now, beta_now, gamma_now, p, T):\n",
    "    #Step 1: evaluate first term pi/pi\n",
    "    difference = np.sum(delta_proposed - delta_now)\n",
    "    first_term = difference*mylog(p/(1-p))\n",
    "    \n",
    "    #Step 2: evaluate second term:\n",
    "    second_term = conditional_betagamma(delta_proposed, beta_now, gamma_now)\n",
    "    second_term -= conditional_betagamma(delta_now, beta_now, gamma_now)\n",
    "    \n",
    "    #Step 3: evaluate third term\n",
    "    third_term = mylog(JJ(delta_proposed, delta_now, T))\n",
    "    \n",
    "    log_m = first_term + second_term + third_term\n",
    "    print(\"log_m is: \", log_m)\n",
    "    \n",
    "    probability = np.exp(min(0, log_m))\n",
    "    print(\"probability is: \", probability)\n",
    "    \n",
    "    eps = npr.uniform() \n",
    "    if eps < probability:\n",
    "        print(\"Accepting\")\n",
    "        return delta_proposed\n",
    "    else:\n",
    "        return delta_now\n",
    "    \n",
    "def propose_delta(delta_now, T):\n",
    "    K = np.sum(delta_now).astype(int)\n",
    "    delta = delta_now.copy()\n",
    "    if K == 1:\n",
    "        probs = np.array([1,0,0])\n",
    "    elif K==T:\n",
    "        probs = np.array([0,1,0])\n",
    "    else:\n",
    "        probs = np.array([1,1,1])/3\n",
    "        \n",
    "    choice = npr.choice([0,1,2], p = probs)\n",
    "    \n",
    "    if choice == 0: #add\n",
    "        index = npr.choice(np.where(delta_now == 0)[0])\n",
    "        delta[index] += 1\n",
    "    elif choice == 1: #delete\n",
    "        index = npr.choice(np.where(delta_now == 1)[0])\n",
    "        delta[index] -= 1\n",
    "    else:\n",
    "        index_0 = npr.choice(np.where(delta_now == 0)[0])\n",
    "        index_1 = npr.choice(np.where(delta_now == 1)[0])\n",
    "        delta[index_0] = 1\n",
    "        delta[index_1] = 0\n",
    "    \n",
    "    return delta  "
   ]
  },
  {
   "cell_type": "code",
   "execution_count": 6,
   "id": "e389a866",
   "metadata": {
    "scrolled": false
   },
   "outputs": [
    {
     "name": "stdout",
     "output_type": "stream",
     "text": [
      "GAMMA_0 [0.93001277 0.90646058 0.74079748 0.77933457 0.72410303 0.22692645\n",
      " 0.25272012 0.68139591 0.64604955 0.71851929 0.23677247 0.24670357\n",
      " 0.25404043 0.7764035  0.79377894 0.56571795 0.87582893 0.97002337\n",
      " 0.67165144 0.87194319 0.84353088 0.70866976 0.67881559 0.39375106\n",
      " 0.64554627 0.15694077 0.70362686 0.34174324 0.42164778 0.77963106\n",
      " 0.81932767 0.91362435 0.87421813 0.61773007 0.56722326 0.4316838\n",
      " 0.15101161 0.84852335 0.66545049 0.56825031 0.36662489 0.60356495\n",
      " 0.64446307 0.30710591 0.21224925 0.37593595 0.71950941 0.36668138\n",
      " 0.13474009 0.85572118 0.80069954 0.05395025 0.         0.\n",
      " 0.         0.         0.         0.         0.         0.\n",
      " 0.         0.         0.         0.         0.         0.\n",
      " 0.         0.         0.         0.         0.         0.\n",
      " 0.         0.         0.         0.         0.         0.\n",
      " 0.         0.         0.         0.         0.         0.\n",
      " 0.         0.         0.         0.         0.         0.\n",
      " 0.         0.         0.         0.         0.         0.\n",
      " 0.         0.         0.         0.        ]\n",
      "log_m is:  -98.37143946597541\n",
      "probability is:  1.895949053146628e-43\n"
     ]
    },
    {
     "name": "stderr",
     "output_type": "stream",
     "text": [
      "/tmp/ipykernel_30543/3888476496.py:2: RuntimeWarning: divide by zero encountered in log\n",
      "  res = np.where(x != 0, np.log(x), -1022)\n"
     ]
    }
   ],
   "source": [
    "# Try one step\n",
    "p = .01\n",
    "T = 100\n",
    "\n",
    "\n",
    "\n",
    "# Initialize delta\n",
    "delta_0 = (npr.uniform(size = T) < p).astype(int)\n",
    "delta_0[0] = 1\n",
    "\n",
    "KK = np.sum(delta_0)\n",
    "eta = np.cumsum(delta_0)\n",
    "# Gamma(paper) takes in shape, scale. npr.gamma takes in shape, rate=1/scale\n",
    "rb = npr.gamma(shape = .1, scale = 10, size = (2,KK))\n",
    "r_0 = rb[0]\n",
    "b_0 = rb[1]\n",
    "\n",
    "r_0 = r_0[eta-1]\n",
    "b_0 = b_0[eta-1]\n",
    "\n",
    "beta_0 = npr.exponential(1/b_0)\n",
    "gamma_0 = npr.beta(r_0, 1)\n",
    "\n",
    "print(\"GAMMA_0\", gamma_0)\n",
    "\n",
    "delta_1 = propose_delta(delta_0, T)\n",
    "prova = update_delta(delta_1, delta_0, beta_0, gamma_0, p, T)\n",
    "\n",
    "delta_1 = prova"
   ]
  },
  {
   "cell_type": "markdown",
   "id": "115f6d9d",
   "metadata": {},
   "source": [
    "### b and r update"
   ]
  },
  {
   "cell_type": "code",
   "execution_count": 7,
   "id": "b80fee36",
   "metadata": {},
   "outputs": [],
   "source": [
    "def update_b(delta_now, beta_now):\n",
    "    eta = np.cumsum(delta_now)\n",
    "    K = np.sum(delta_now)\n",
    "    b_next = np.zeros(K)\n",
    "    for kk in range(K):\n",
    "        b_next[kk] = npr.gamma(0.1 + np.sum((eta==kk)), 1/(0.1+np.sum(beta_now*(eta==kk))))\n",
    "    return b_next\n",
    "\n",
    "def update_r(delta_now, gamma_now):\n",
    "    eta = np.cumsum(delta_now)\n",
    "    K = np.sum(delta_now)\n",
    "    r_next = np.zeros(K)\n",
    "    for kk in range(K):\n",
    "        r_next[kk] = npr.gamma(0.1 + np.sum((eta==kk)), 1/(0.1 + np.sum(-mylog(gamma_now)*(eta==kk))))\n",
    "\n",
    "    return r_next\n"
   ]
  },
  {
   "cell_type": "code",
   "execution_count": 8,
   "id": "3cd05570",
   "metadata": {},
   "outputs": [
    {
     "name": "stderr",
     "output_type": "stream",
     "text": [
      "/tmp/ipykernel_30543/3888476496.py:2: RuntimeWarning: divide by zero encountered in log\n",
      "  res = np.where(x != 0, np.log(x), -1022)\n"
     ]
    }
   ],
   "source": [
    "#Update b, r\n",
    "eta = np.cumsum(delta_1)\n",
    "\n",
    "b_1 = update_b(delta_1, beta_0)\n",
    "b_1 = b_1[eta-1]\n",
    "\n",
    "r_1 = update_r(delta_1, gamma_0)\n",
    "r_1 = r_1[eta-1]"
   ]
  },
  {
   "attachments": {},
   "cell_type": "markdown",
   "id": "0a5fa15a",
   "metadata": {},
   "source": [
    "### Update beta and gamma\n",
    "\n",
    "Through some thorough calculations, we find that\n",
    "\n",
    "$$ y \\sim Beta(\\Delta I_t + 1, S_{t-1} - \\Delta I_t - \\frac{b^{(g+1)}_{\\eta_t^{(g+1)}}}{P_{t-1}} + 1) $$\n",
    "then $\\beta_t^{(g+1)} = -\\frac{log (y)}{P_{t-1}}$\n",
    "\n",
    "and similarly,\n",
    "\n",
    "$$ \\gamma_t^{(g+1)} \\sim Beta(\\Delta R_t + r^{(g+1)}_{\\eta_t^{(g+1)}}, I_{t-1} - \\Delta R_t + 1)$$"
   ]
  },
  {
   "cell_type": "code",
   "execution_count": 9,
   "id": "6e1ca443",
   "metadata": {},
   "outputs": [],
   "source": [
    "def update_beta (SS, S0, delta_I, PP, P0, bb, TT): \n",
    "\n",
    "    \"\"\"\n",
    "    SS is at time t-1\n",
    "    PP is at time t-1\n",
    "    delta_I is at time t\n",
    "    b is at time t\n",
    "    \"\"\"\n",
    "\n",
    "    new_beta = np.zeros(shape=TT)\n",
    "    new_beta[0] = -mylog(npr.beta(delta_I[0] + 1, S0 - delta_I[0] - bb[0]/P0 + 1)/P0)\n",
    "    for tt in range(1,TT):\n",
    "        new_beta[tt] = -mylog(npr.beta(delta_I[tt] + 1, SS[tt-1] - delta_I[tt] - bb[tt]/PP[tt-1] + 1)/PP[tt-1])\n",
    "\n",
    "    return new_beta\n",
    "\n",
    "def update_gamma (delta_R, II, I0, rr, TT):\n",
    "\n",
    "    \"\"\"\n",
    "    II is at time t-1\n",
    "    delta_R is at time t\n",
    "    r is at time t\n",
    "    \"\"\"\n",
    "\n",
    "    new_gamma = np.zeros(shape=TT)\n",
    "    new_gamma[0] = npr.beta(delta_R[0] + rr[0], I0 - delta_R[0] + 1)\n",
    "    for tt in range(1,TT):\n",
    "        new_gamma[tt] = npr.beta(delta_R[tt] + rr[tt], II[tt-1] - delta_R[tt] + 1)\n",
    "\n",
    "    return new_gamma"
   ]
  },
  {
   "cell_type": "code",
   "execution_count": 10,
   "id": "e8bb4c2e",
   "metadata": {},
   "outputs": [
    {
     "data": {
      "text/plain": [
       "array([5.00000e-05, 5.70000e-05, 6.80000e-05, 8.00000e-05, 9.40000e-05,\n",
       "       1.08000e-04, 1.41000e-04, 1.71000e-04, 2.21000e-04, 2.70000e-04,\n",
       "       3.28000e-04, 4.02000e-04, 5.07000e-04, 6.35000e-04, 7.87000e-04,\n",
       "       9.98000e-04, 1.27200e-03, 1.59300e-03, 1.95800e-03, 2.41000e-03,\n",
       "       3.00800e-03, 3.74500e-03, 4.70500e-03, 5.83500e-03, 7.27300e-03,\n",
       "       9.11100e-03, 1.13630e-02, 1.42040e-02, 1.75950e-02, 2.18010e-02,\n",
       "       2.70630e-02, 3.35890e-02, 4.12450e-02, 5.08200e-02, 6.25690e-02,\n",
       "       7.63990e-02, 9.32260e-02, 1.13064e-01, 1.36101e-01, 1.62415e-01,\n",
       "       1.92808e-01, 2.26199e-01, 2.61915e-01, 2.99977e-01, 3.38672e-01,\n",
       "       3.76091e-01, 4.12057e-01, 4.44493e-01, 4.72763e-01, 4.95557e-01,\n",
       "       5.13831e-01, 5.26101e-01, 5.32737e-01, 5.34691e-01, 5.31973e-01,\n",
       "       5.25733e-01, 5.16834e-01, 5.06167e-01, 4.93079e-01, 4.78502e-01,\n",
       "       4.63532e-01, 4.47710e-01, 4.31768e-01, 4.15374e-01, 3.99219e-01,\n",
       "       3.83079e-01, 3.66846e-01, 3.51128e-01, 3.35831e-01, 3.21048e-01,\n",
       "       3.06702e-01, 2.92701e-01, 2.79316e-01, 2.66519e-01, 2.54139e-01,\n",
       "       2.42630e-01, 2.31365e-01, 2.20388e-01, 2.10011e-01, 2.00092e-01,\n",
       "       1.90697e-01, 1.81570e-01, 1.72893e-01, 1.64526e-01, 1.56527e-01,\n",
       "       1.48811e-01, 1.41705e-01, 1.34786e-01, 1.28277e-01, 1.22120e-01,\n",
       "       1.16134e-01, 1.10536e-01, 1.05121e-01, 9.99690e-02, 9.52890e-02,\n",
       "       9.05810e-02, 8.62290e-02, 8.21250e-02, 7.80430e-02, 7.42030e-02])"
      ]
     },
     "execution_count": 10,
     "metadata": {},
     "output_type": "execute_result"
    }
   ],
   "source": [
    "II/N"
   ]
  },
  {
   "cell_type": "code",
   "execution_count": 11,
   "id": "c38ab613",
   "metadata": {},
   "outputs": [
    {
     "data": {
      "text/plain": [
       "(100,)"
      ]
     },
     "execution_count": 11,
     "metadata": {},
     "output_type": "execute_result"
    }
   ],
   "source": [
    "Delta_I =  np.insert(arr = np.array( [II[1:] - II[:-1]]), obj=0, values=II[0]-I0)\n",
    "Delta_R =  np.insert(arr = np.array( [RR[1:] - RR[:-1]]), obj=0, values=RR[0]-R0)\n",
    "np.shape(Delta_I)"
   ]
  },
  {
   "cell_type": "code",
   "execution_count": 12,
   "id": "ae354cdd",
   "metadata": {},
   "outputs": [
    {
     "data": {
      "text/plain": [
       "array([42,  4,  5, 79,  6])"
      ]
     },
     "execution_count": 12,
     "metadata": {},
     "output_type": "execute_result"
    }
   ],
   "source": [
    "por = np.array([4,5,79,6])\n",
    "np.insert(por,0,42)"
   ]
  },
  {
   "cell_type": "code",
   "execution_count": 18,
   "id": "500efb4c",
   "metadata": {},
   "outputs": [
    {
     "data": {
      "text/plain": [
       "95"
      ]
     },
     "execution_count": 18,
     "metadata": {},
     "output_type": "execute_result"
    }
   ],
   "source": [
    "delta_I"
   ]
  },
  {
   "cell_type": "code",
   "execution_count": 21,
   "id": "ca3557b9",
   "metadata": {},
   "outputs": [
    {
     "data": {
      "text/plain": [
       "967343.0"
      ]
     },
     "execution_count": 21,
     "metadata": {},
     "output_type": "execute_result"
    }
   ],
   "source": [
    "SS[30]"
   ]
  },
  {
   "cell_type": "code",
   "execution_count": 22,
   "id": "9df7ed87",
   "metadata": {},
   "outputs": [
    {
     "name": "stdout",
     "output_type": "stream",
     "text": [
      "alpha = 8.0, beta = 999780.552481568\n",
      "\n"
     ]
    }
   ],
   "source": [
    "for tt in range(1,60):\n",
    "    print(f'alpha = {Delta_I[tt] + 1}, beta = {SS[tt-1] - Delta_I[tt] - b_1[tt]/(II[tt-1]/N) + 1}\\n')"
   ]
  },
  {
   "cell_type": "code",
   "execution_count": 24,
   "id": "02fee2eb",
   "metadata": {},
   "outputs": [
    {
     "data": {
      "text/plain": [
       "array([ 18274.,  12270.,   6636.,   1954.,  -2718.,  -6240.,  -8899.,\n",
       "       -10667., -13088., -14577.])"
      ]
     },
     "execution_count": 24,
     "metadata": {},
     "output_type": "execute_result"
    }
   ],
   "source": [
    "Delta_I[50:60]"
   ]
  },
  {
   "cell_type": "code",
   "execution_count": 23,
   "id": "f37ef1c0",
   "metadata": {},
   "outputs": [
    {
     "data": {
      "text/plain": [
       "[<matplotlib.lines.Line2D at 0x7f3f09d4c730>]"
      ]
     },
     "execution_count": 23,
     "metadata": {},
     "output_type": "execute_result"
    },
    {
     "data": {
      "image/png": "[encoded data removed]",
      "text/plain": [
       "<Figure size 432x288 with 1 Axes>"
      ]
     },
     "metadata": {
      "needs_background": "light"
     },
     "output_type": "display_data"
    }
   ],
   "source": [
    "plt.plot(Delta_I)"
   ]
  },
  {
   "cell_type": "code",
   "execution_count": 27,
   "id": "8b8c2fc5",
   "metadata": {},
   "outputs": [
    {
     "data": {
      "text/plain": [
       "((array([69., 11.,  6.,  2.,  5.,  2.,  1.,  1.,  1.,  2.]),\n",
       "  array([9.75910109e-03, 1.02556330e+02, 2.05102900e+02, 3.07649471e+02,\n",
       "         4.10196042e+02, 5.12742612e+02, 6.15289183e+02, 7.17835754e+02,\n",
       "         8.20382324e+02, 9.22928895e+02, 1.02547547e+03]),\n",
       "  <BarContainer object of 10 artists>),\n",
       " 127.29602173981628)"
      ]
     },
     "execution_count": 27,
     "metadata": {},
     "output_type": "execute_result"
    },
    {
     "data": {
      "image/png": "[encoded data removed]",
      "text/plain": [
       "<Figure size 432x288 with 1 Axes>"
      ]
     },
     "metadata": {
      "needs_background": "light"
     },
     "output_type": "display_data"
    }
   ],
   "source": [
    "plt.hist(beta_0), np.mean(beta_0)"
   ]
  },
  {
   "cell_type": "code",
   "execution_count": 29,
   "id": "f92d0c22",
   "metadata": {},
   "outputs": [
    {
     "data": {
      "text/plain": [
       "(array([49.,  3.,  6.,  5.,  3.,  3.,  8.,  7., 10.,  6.]),\n",
       " array([0.        , 0.09700234, 0.19400467, 0.29100701, 0.38800935,\n",
       "        0.48501168, 0.58201402, 0.67901636, 0.77601869, 0.87302103,\n",
       "        0.97002337]),\n",
       " <BarContainer object of 10 artists>)"
      ]
     },
     "execution_count": 29,
     "metadata": {},
     "output_type": "execute_result"
    },
    {
     "data": {
      "image/png": "[encoded data removed]",
      "text/plain": [
       "<Figure size 432x288 with 1 Axes>"
      ]
     },
     "metadata": {
      "needs_background": "light"
     },
     "output_type": "display_data"
    }
   ],
   "source": [
    "plt.hist(gamma_0)"
   ]
  },
  {
   "cell_type": "code",
   "execution_count": null,
   "id": "90f65b12",
   "metadata": {},
   "outputs": [],
   "source": [
    "def pi_beta(beta_t, P_t_1, Delta_I, S_t_1, pi_beta_given_eta):\n",
    "    distro = (1-np.exp(-beta_t*P_t_1))**Delta_I * np.exp(-beta_t*P_t_1*(S_t_1-Delta_I))*pi_beta_given_eta\n",
    "    return distro # / np.sum(distro)\n",
    "\n",
    "def pi_gamma(gamma_t, Delta_R, I_t_1, pi_gamma_given_r):\n",
    "    distro = gamma_t**Delta_R *(1-gamma_t)(I_t_1-Delta_R)*pi_gamma_given_r\n",
    "    return distro # /np.sum(distro)\n",
    "\n",
    "Nvalues = 10_000\n",
    "\n",
    "betas = np.linspace(0.1, 10**3, Nvalues)\n",
    "gammas = np.linspace(0., 1, Nvalues)\n",
    "\n",
    "# To fix this with the arguments of the functions\n",
    "missing_arrays = []         \n",
    "\n",
    "C_beta = np.max(pi_beta(betas, *missing_arrays))\n",
    "C_gamma = np.max(pi_gamma(gammas, *missing_arrays))\n",
    "\n",
    "u_1 = np.random.uniform(size=Nvalues)    \n",
    "u_2 = np.random.uniform(size=Nvalues)    \n",
    "gamma_sampling = np.random.beta(a=Delta_R+r, b=I-Delta_R+1, size=Nvalues)\n",
    "\n",
    "mask = u_2 < pi_gamma(gamma_sampling, *missing_arrays)/(C_gamma*gamma_sampling)\n",
    "\n",
    "ok_values = u_2[mask]\n",
    "\n",
    "# plotta e vediamo...\n",
    "plt.plot(gammas, pi_gamma(gammas, *missing_arrays))\n",
    "plt.scatter(u_2, pi_gamma(u_2, *np.array(missing_arrays)[mask]));"
   ]
  },
  {
   "cell_type": "code",
   "execution_count": 13,
   "id": "5ee4e8e1",
   "metadata": {},
   "outputs": [
    {
     "ename": "ValueError",
     "evalue": "a <= 0",
     "output_type": "error",
     "traceback": [
      "\u001b[0;31m---------------------------------------------------------------------------\u001b[0m",
      "\u001b[0;31mValueError\u001b[0m                                Traceback (most recent call last)",
      "\u001b[1;32m/home/antonio/Desktop/MrMagi/3semestre/ITI/proj/bayesian_SIR_1302.ipynb Cell 19\u001b[0m in \u001b[0;36m<cell line: 3>\u001b[0;34m()\u001b[0m\n\u001b[1;32m      <a href='vscode-notebook-cell:/home/antonio/Desktop/MrMagi/3semestre/ITI/proj/bayesian_SIR_1302.ipynb#X22sZmlsZQ%3D%3D?line=0'>1</a>\u001b[0m \u001b[39m#Update beta, gamma\u001b[39;00m\n\u001b[0;32m----> <a href='vscode-notebook-cell:/home/antonio/Desktop/MrMagi/3semestre/ITI/proj/bayesian_SIR_1302.ipynb#X22sZmlsZQ%3D%3D?line=2'>3</a>\u001b[0m beta_1 \u001b[39m=\u001b[39m update_beta(SS, S0, Delta_I, II\u001b[39m/\u001b[39;49mN, I0\u001b[39m/\u001b[39;49mN, b_1, T)\n\u001b[1;32m      <a href='vscode-notebook-cell:/home/antonio/Desktop/MrMagi/3semestre/ITI/proj/bayesian_SIR_1302.ipynb#X22sZmlsZQ%3D%3D?line=4'>5</a>\u001b[0m gamma_1 \u001b[39m=\u001b[39m update_gamma(Delta_R, II, I0, r_1, gamma_0)\n",
      "\u001b[1;32m/home/antonio/Desktop/MrMagi/3semestre/ITI/proj/bayesian_SIR_1302.ipynb Cell 19\u001b[0m in \u001b[0;36mupdate_beta\u001b[0;34m(SS, S0, delta_I, PP, P0, bb, TT)\u001b[0m\n\u001b[1;32m     <a href='vscode-notebook-cell:/home/antonio/Desktop/MrMagi/3semestre/ITI/proj/bayesian_SIR_1302.ipynb#X22sZmlsZQ%3D%3D?line=10'>11</a>\u001b[0m new_beta[\u001b[39m0\u001b[39m] \u001b[39m=\u001b[39m \u001b[39m-\u001b[39mmylog(npr\u001b[39m.\u001b[39mbeta(delta_I[\u001b[39m0\u001b[39m] \u001b[39m+\u001b[39m \u001b[39m1\u001b[39m, S0 \u001b[39m-\u001b[39m delta_I[\u001b[39m0\u001b[39m] \u001b[39m-\u001b[39m bb[\u001b[39m0\u001b[39m]\u001b[39m/\u001b[39mP0 \u001b[39m+\u001b[39m \u001b[39m1\u001b[39m)\u001b[39m/\u001b[39mP0)\n\u001b[1;32m     <a href='vscode-notebook-cell:/home/antonio/Desktop/MrMagi/3semestre/ITI/proj/bayesian_SIR_1302.ipynb#X22sZmlsZQ%3D%3D?line=11'>12</a>\u001b[0m \u001b[39mfor\u001b[39;00m tt \u001b[39min\u001b[39;00m \u001b[39mrange\u001b[39m(\u001b[39m1\u001b[39m,TT):\n\u001b[0;32m---> <a href='vscode-notebook-cell:/home/antonio/Desktop/MrMagi/3semestre/ITI/proj/bayesian_SIR_1302.ipynb#X22sZmlsZQ%3D%3D?line=12'>13</a>\u001b[0m     new_beta[tt] \u001b[39m=\u001b[39m \u001b[39m-\u001b[39mmylog(npr\u001b[39m.\u001b[39;49mbeta(delta_I[tt] \u001b[39m+\u001b[39;49m \u001b[39m1\u001b[39;49m, SS[tt\u001b[39m-\u001b[39;49m\u001b[39m1\u001b[39;49m] \u001b[39m-\u001b[39;49m delta_I[tt] \u001b[39m-\u001b[39;49m bb[tt]\u001b[39m/\u001b[39;49mPP[tt\u001b[39m-\u001b[39;49m\u001b[39m1\u001b[39;49m] \u001b[39m+\u001b[39;49m \u001b[39m1\u001b[39;49m)\u001b[39m/\u001b[39mPP[tt\u001b[39m-\u001b[39m\u001b[39m1\u001b[39m])\n\u001b[1;32m     <a href='vscode-notebook-cell:/home/antonio/Desktop/MrMagi/3semestre/ITI/proj/bayesian_SIR_1302.ipynb#X22sZmlsZQ%3D%3D?line=14'>15</a>\u001b[0m \u001b[39mreturn\u001b[39;00m new_beta\n",
      "File \u001b[0;32mmtrand.pyx:494\u001b[0m, in \u001b[0;36mnumpy.random.mtrand.RandomState.beta\u001b[0;34m()\u001b[0m\n",
      "File \u001b[0;32m_common.pyx:612\u001b[0m, in \u001b[0;36mnumpy.random._common.cont\u001b[0;34m()\u001b[0m\n",
      "File \u001b[0;32m_common.pyx:427\u001b[0m, in \u001b[0;36mnumpy.random._common.check_constraint\u001b[0;34m()\u001b[0m\n",
      "\u001b[0;31mValueError\u001b[0m: a <= 0"
     ]
    }
   ],
   "source": [
    "#Update beta, gamma\n",
    "\n",
    "#beta_1 = update_beta(SS, S0, Delta_I, II/N, I0/N, b_1, T)\n",
    "\n",
    "#gamma_1 = update_gamma(Delta_R, II, I0, r_1, gamma_0)\n"
   ]
  }
 ],
 "metadata": {
  "kernelspec": {
   "display_name": "base",
   "language": "python",
   "name": "python3"
  },
  "language_info": {
   "codemirror_mode": {
    "name": "ipython",
    "version": 3
   },
   "file_extension": ".py",
   "mimetype": "text/x-python",
   "name": "python",
   "nbconvert_exporter": "python",
   "pygments_lexer": "ipython3",
   "version": "3.9.12"
  },
  "vscode": {
   "interpreter": {
    "hash": "f7215b3a7a598eb87d796f8da2e6ae65e9b6237dbe893c88938c519b77b4f916"
   }
  }
 },
 "nbformat": 4,
 "nbformat_minor": 5
}
